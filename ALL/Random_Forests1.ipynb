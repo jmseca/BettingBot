{
 "cells": [
  {
   "cell_type": "markdown",
   "metadata": {},
   "source": [
    "# Random_Forests1\n",
    "Usando Decision_Trees1, logo só serve para variáveis dependentes do tipo 0/1"
   ]
  },
  {
   "cell_type": "markdown",
   "metadata": {},
   "source": [
    "##### Vamos fazer 3 modelos \n",
    "- Faz apenas random das colunas a analisar por node (usando todas as amostras) (1)\n",
    "- Faz apenas random das amostras para fazer uma tree (analisa tds as colunas por node) (2)\n",
    "- Faz random das amostras e das colunas para cada Tree (3)"
   ]
  },
  {
   "cell_type": "code",
   "execution_count": 3,
   "metadata": {},
   "outputs": [],
   "source": [
    "from Decision_Tree1 import *\n",
    "import sklearn\n",
    "df_=pd.read_csv('titanic_train.csv')"
   ]
  },
  {
   "cell_type": "code",
   "execution_count": 2,
   "metadata": {},
   "outputs": [],
   "source": [
    "df_=df_.drop(['PassengerId','Name','SibSp','Parch','Ticket','Fare','Cabin','Embarked'],axis=1)"
   ]
  },
  {
   "cell_type": "code",
   "execution_count": 1,
   "metadata": {},
   "outputs": [
    {
     "ename": "NameError",
     "evalue": "name 'df_' is not defined",
     "output_type": "error",
     "traceback": [
      "\u001b[1;31m---------------------------------------------------------------------------\u001b[0m",
      "\u001b[1;31mNameError\u001b[0m                                 Traceback (most recent call last)",
      "\u001b[1;32m<ipython-input-1-d112d44d3a17>\u001b[0m in \u001b[0;36m<module>\u001b[1;34m\u001b[0m\n\u001b[1;32m----> 1\u001b[1;33m \u001b[0msurvived\u001b[0m\u001b[1;33m=\u001b[0m\u001b[0mdf_\u001b[0m\u001b[1;33m[\u001b[0m\u001b[1;34m'Survived'\u001b[0m\u001b[1;33m]\u001b[0m\u001b[1;33m\u001b[0m\u001b[1;33m\u001b[0m\u001b[0m\n\u001b[0m\u001b[0;32m      2\u001b[0m \u001b[0mdf_\u001b[0m\u001b[1;33m=\u001b[0m\u001b[0mdf_\u001b[0m\u001b[1;33m.\u001b[0m\u001b[0mdrop\u001b[0m\u001b[1;33m(\u001b[0m\u001b[1;33m[\u001b[0m\u001b[1;34m'Survived'\u001b[0m\u001b[1;33m]\u001b[0m\u001b[1;33m,\u001b[0m\u001b[1;36m1\u001b[0m\u001b[1;33m)\u001b[0m\u001b[1;33m\u001b[0m\u001b[1;33m\u001b[0m\u001b[0m\n",
      "\u001b[1;31mNameError\u001b[0m: name 'df_' is not defined"
     ]
    }
   ],
   "source": [
    "survived=df_['Survived']\n",
    "df_=df_.drop(['Survived'],1)"
   ]
  },
  {
   "cell_type": "code",
   "execution_count": 4,
   "metadata": {},
   "outputs": [],
   "source": [
    "df_=pd.concat([df_,pd.DataFrame(survived)],sort=False,axis=1)"
   ]
  },
  {
   "cell_type": "code",
   "execution_count": 5,
   "metadata": {},
   "outputs": [],
   "source": [
    "df_=df_.dropna().reset_index(drop=True)"
   ]
  },
  {
   "cell_type": "code",
   "execution_count": 6,
   "metadata": {},
   "outputs": [],
   "source": [
    "df_1=df_.head(50)"
   ]
  },
  {
   "cell_type": "markdown",
   "metadata": {},
   "source": [
    "## Random_Forest1.3"
   ]
  },
  {
   "cell_type": "code",
   "execution_count": 1,
   "metadata": {},
   "outputs": [
    {
     "name": "stdout",
     "output_type": "stream",
     "text": [
      "Este módulo usa pandas.Dataframe\n",
      "E está feito para apenas prever variáveis categóricas 0/1\n"
     ]
    }
   ],
   "source": [
    "from Decision_Tree1 import *\n",
    "\n",
    "class Forest:\n",
    "    def __init__(self):\n",
    "        self.trees=[]\n",
    "        \n",
    "    def add_tree(self,tree):\n",
    "        (self.trees)+=[tree]\n",
    "        \n",
    "    def size(self):\n",
    "        return len(self.trees)\n",
    "    \n",
    "    def get_tree(self,ind):\n",
    "        return self.trees[ind]\n",
    "    \n",
    "    def merge_forests(self,forest):\n",
    "        (self.trees)+=(forest.trees)\n",
    "    \n",
    "    \n",
    "def random_df(df): #cria a tal Bootstrapped dataset \n",
    "    size=len(df.index)\n",
    "    done=False\n",
    "    new_df=pd.DataFrame()\n",
    "    i=0\n",
    "    while i<=(size+2) and not done: #size+2 é só pq sim\n",
    "        ind=random.randrange(size)\n",
    "        ds=pd.DataFrame(df.iloc[ind,:]).T\n",
    "        new_df=pd.concat([new_df,ds],sort=False)\n",
    "        if len(new_df.index)==size:\n",
    "            done=True\n",
    "    return new_df.reset_index(drop=True)\n",
    "        \n",
    "\n",
    "def build_forest(df,trees=1000,limit=None,forest=True,auto=True,columns_percentage=50,bootstrap=False,count=0):\n",
    "    #limit e count servem para a função build_tree\n",
    "    #bootstrap diz se cada vez que fazemos uma árvore fazemos random da dataframe ou não (T/F)\n",
    "    F=Forest()\n",
    "    for i in range(trees):\n",
    "        if not(bootstrap):\n",
    "            print('i',i)\n",
    "            new_tree= build_tree(df,limit=limit,forest=forest,auto=auto,columns_percentage=columns_percentage,count=count)\n",
    "            F.add_tree(new_tree)\n",
    "        else:\n",
    "            print('i',i)\n",
    "            new_df=random_df(df)\n",
    "            new_tree= build_tree(new_df,limit=limit,forest=forest,auto=auto,columns_percentage=columns_percentage,count=count)\n",
    "            F.add_tree(new_tree)\n",
    "    return F\n",
    "\n",
    "def forest_classify(df,forest):\n",
    "    #devolve lista de dicionários em que cada dict refer-se a uma amostra/linha\n",
    "    #e os valores de cada dict referem-se as previsões de cada árvore em \n",
    "    #relação a essa amostra\n",
    "    rows=len(df.index)\n",
    "    bigout=[]\n",
    "    for i in range(rows):\n",
    "        output={0:0,1:0}\n",
    "        row=pd.DataFrame(df.iloc[i,:]).T\n",
    "        trees=forest.size()\n",
    "        for n in range(trees):\n",
    "            tree=forest.get_tree(n)\n",
    "            val=test_tree(row,tree)[0]\n",
    "            output[val]+=1\n",
    "        bigout+=[output]\n",
    "    return bigout\n",
    "\n",
    "def forest_predictions(df, forest, var=1, limite=60):\n",
    "    #devolve uma lista com as previsões da floresta\n",
    "    #impondo um limite (percentagem) a uma variável\n",
    "    #(só dizemos que se trata dessa variável se a percentagem de probabilidade)\n",
    "    #for igual ou superior\n",
    "    final=[]\n",
    "    classi=forest_classify(df,forest)\n",
    "    #print(classi)\n",
    "    for i in classi:\n",
    "        prob=round((i[var]/(forest.size()))*100)\n",
    "        if prob>=limite:\n",
    "            final+=[var]\n",
    "        else:\n",
    "            final+=[1-var]\n",
    "    return final\n",
    "\n",
    "def cmat_forest(df,forest,var=1,limite=60):\n",
    "    real=list(df.iloc[:,-1])\n",
    "    predicted=forest_predictions(df,forest,var,limite)\n",
    "    print('predicted',predicted)\n",
    "    cmat=np.array([[0,0],[0,0]])\n",
    "    for i in range(len(real)):\n",
    "        if real[i]==1 and predicted[i]==1:\n",
    "            cmat[0][0]+=1\n",
    "        elif real[i]==1 and predicted[i]==0:\n",
    "            cmat[1][0]+=1\n",
    "        elif real[i]==0 and predicted[i]==1:\n",
    "            cmat[0][1]+=1\n",
    "        elif real[i]==0 and predicted[i]==0:\n",
    "            cmat[1][1]+=1\n",
    "        else:\n",
    "            print('Erro na cmat_forest')\n",
    "            return 'Erro na cmat_forest'\n",
    "    return cmat, pred_percent(cmat,1-var)"
   ]
  },
  {
   "cell_type": "code",
   "execution_count": null,
   "metadata": {},
   "outputs": [],
   "source": []
  }
 ],
 "metadata": {
  "kernelspec": {
   "display_name": "Python 3",
   "language": "python",
   "name": "python3"
  },
  "language_info": {
   "codemirror_mode": {
    "name": "ipython",
    "version": 3
   },
   "file_extension": ".py",
   "mimetype": "text/x-python",
   "name": "python",
   "nbconvert_exporter": "python",
   "pygments_lexer": "ipython3",
   "version": "3.7.3"
  }
 },
 "nbformat": 4,
 "nbformat_minor": 2
}
