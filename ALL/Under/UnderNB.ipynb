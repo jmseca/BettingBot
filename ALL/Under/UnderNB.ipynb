{
 "cells": [
  {
   "cell_type": "code",
   "execution_count": 1,
   "metadata": {},
   "outputs": [],
   "source": [
    "import pandas as pd\n",
    "import numpy as np\n",
    "import time\n",
    "import os\n",
    "import datetime as dt\n",
    "from functools import reduce\n",
    "\n",
    "pd.set_option('display.max_columns', 200)\n",
    "pd.set_option('display.max_rows', 200)"
   ]
  },
  {
   "cell_type": "code",
   "execution_count": 2,
   "metadata": {},
   "outputs": [],
   "source": [
    "df = pd.read_csv('understats2.csv')"
   ]
  },
  {
   "cell_type": "code",
   "execution_count": 4,
   "metadata": {},
   "outputs": [
    {
     "data": {
      "text/plain": [
       "1621"
      ]
     },
     "execution_count": 4,
     "metadata": {},
     "output_type": "execute_result"
    }
   ],
   "source": [
    "len(df)"
   ]
  },
  {
   "cell_type": "code",
   "execution_count": 5,
   "metadata": {},
   "outputs": [
    {
     "data": {
      "text/html": [
       "<div>\n",
       "<style scoped>\n",
       "    .dataframe tbody tr th:only-of-type {\n",
       "        vertical-align: middle;\n",
       "    }\n",
       "\n",
       "    .dataframe tbody tr th {\n",
       "        vertical-align: top;\n",
       "    }\n",
       "\n",
       "    .dataframe thead th {\n",
       "        text-align: right;\n",
       "    }\n",
       "</style>\n",
       "<table border=\"1\" class=\"dataframe\">\n",
       "  <thead>\n",
       "    <tr style=\"text-align: right;\">\n",
       "      <th></th>\n",
       "      <th>web-scraper-order</th>\n",
       "      <th>web-scraper-start-url</th>\n",
       "      <th>Games</th>\n",
       "      <th>Games-href</th>\n",
       "      <th>HomeTeam</th>\n",
       "      <th>AwayTeam</th>\n",
       "      <th>League</th>\n",
       "      <th>Date</th>\n",
       "      <th>HGoals</th>\n",
       "      <th>AGoals</th>\n",
       "      <th>HxG</th>\n",
       "      <th>AxG</th>\n",
       "      <th>HShots</th>\n",
       "      <th>AShots</th>\n",
       "      <th>HST</th>\n",
       "      <th>AST</th>\n",
       "      <th>HDEEP</th>\n",
       "      <th>ADEEP</th>\n",
       "      <th>HPPDA</th>\n",
       "      <th>APPDA</th>\n",
       "      <th>HxPTS</th>\n",
       "      <th>AxPTS</th>\n",
       "    </tr>\n",
       "  </thead>\n",
       "  <tbody>\n",
       "    <tr>\n",
       "      <th>0</th>\n",
       "      <td>1595328034-688</td>\n",
       "      <td>https://understat.com/league/Bundesliga</td>\n",
       "      <td>213.041.00</td>\n",
       "      <td>https://understat.com/match/12522</td>\n",
       "      <td>Bayer Leverkusen</td>\n",
       "      <td>Schalke 04</td>\n",
       "      <td>Bundesliga</td>\n",
       "      <td>Dec 07 2019</td>\n",
       "      <td>2</td>\n",
       "      <td>1</td>\n",
       "      <td>3.04</td>\n",
       "      <td>1.00</td>\n",
       "      <td>19</td>\n",
       "      <td>5</td>\n",
       "      <td>9</td>\n",
       "      <td>3</td>\n",
       "      <td>9</td>\n",
       "      <td>2</td>\n",
       "      <td>5.85</td>\n",
       "      <td>7.75</td>\n",
       "      <td>2.63</td>\n",
       "      <td>0.26</td>\n",
       "    </tr>\n",
       "    <tr>\n",
       "      <th>1</th>\n",
       "      <td>1595326717-100</td>\n",
       "      <td>https://understat.com/league/RFPL</td>\n",
       "      <td>011.290.69</td>\n",
       "      <td>https://understat.com/match/11122</td>\n",
       "      <td>FC Orenburg</td>\n",
       "      <td>Krylya Sovetov Samara</td>\n",
       "      <td>RFPL</td>\n",
       "      <td>Oct 20 2019</td>\n",
       "      <td>0</td>\n",
       "      <td>1</td>\n",
       "      <td>1.29</td>\n",
       "      <td>0.69</td>\n",
       "      <td>28</td>\n",
       "      <td>14</td>\n",
       "      <td>9</td>\n",
       "      <td>6</td>\n",
       "      <td>12</td>\n",
       "      <td>1</td>\n",
       "      <td>9.38</td>\n",
       "      <td>18.00</td>\n",
       "      <td>1.81</td>\n",
       "      <td>0.89</td>\n",
       "    </tr>\n",
       "  </tbody>\n",
       "</table>\n",
       "</div>"
      ],
      "text/plain": [
       "  web-scraper-order                    web-scraper-start-url       Games  \\\n",
       "0    1595328034-688  https://understat.com/league/Bundesliga  213.041.00   \n",
       "1    1595326717-100        https://understat.com/league/RFPL  011.290.69   \n",
       "\n",
       "                          Games-href          HomeTeam               AwayTeam  \\\n",
       "0  https://understat.com/match/12522  Bayer Leverkusen             Schalke 04   \n",
       "1  https://understat.com/match/11122       FC Orenburg  Krylya Sovetov Samara   \n",
       "\n",
       "       League         Date  HGoals  AGoals   HxG   AxG  HShots  AShots  HST  \\\n",
       "0  Bundesliga  Dec 07 2019       2       1  3.04  1.00      19       5    9   \n",
       "1        RFPL  Oct 20 2019       0       1  1.29  0.69      28      14    9   \n",
       "\n",
       "   AST  HDEEP  ADEEP  HPPDA  APPDA  HxPTS  AxPTS  \n",
       "0    3      9      2   5.85   7.75   2.63   0.26  \n",
       "1    6     12      1   9.38  18.00   1.81   0.89  "
      ]
     },
     "execution_count": 5,
     "metadata": {},
     "output_type": "execute_result"
    }
   ],
   "source": [
    "df.head(2)"
   ]
  },
  {
   "cell_type": "code",
   "execution_count": null,
   "metadata": {},
   "outputs": [],
   "source": []
  }
 ],
 "metadata": {
  "kernelspec": {
   "display_name": "Python 3",
   "language": "python",
   "name": "python3"
  },
  "language_info": {
   "codemirror_mode": {
    "name": "ipython",
    "version": 3
   },
   "file_extension": ".py",
   "mimetype": "text/x-python",
   "name": "python",
   "nbconvert_exporter": "python",
   "pygments_lexer": "ipython3",
   "version": "3.7.3"
  }
 },
 "nbformat": 4,
 "nbformat_minor": 4
}
