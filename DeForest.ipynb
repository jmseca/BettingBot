{
 "cells": [
  {
   "cell_type": "markdown",
   "metadata": {},
   "source": [
    "# DeForest"
   ]
  },
  {
   "cell_type": "code",
   "execution_count": 2,
   "metadata": {},
   "outputs": [],
   "source": [
    "import pandas as pd\n",
    "import pickle\n",
    "import time\n",
    "import itertools"
   ]
  },
  {
   "cell_type": "code",
   "execution_count": 10,
   "metadata": {},
   "outputs": [],
   "source": [
    "rd0=open('Ultimate_List_DeForest.pickle','rb')\n",
    "TheList=pickle.load(rd0)\n",
    "rd0.close()"
   ]
  },
  {
   "cell_type": "code",
   "execution_count": null,
   "metadata": {},
   "outputs": [],
   "source": [
    "'WinCounterTotal_H'\n",
    "'WinCounterTotal_A'\n",
    "'ScrdCounterTotal_H'\n",
    "'ScrdCounterTotal_A'\n",
    "'ConcdCounterTotal_H'\n",
    "'ConcdCounterTotal_A'"
   ]
  },
  {
   "cell_type": "code",
   "execution_count": 7,
   "metadata": {},
   "outputs": [
    {
     "name": "stdout",
     "output_type": "stream",
     "text": [
      "AtkForm_H5\n",
      "AtkForm_A5\n",
      "AtkForm_Diff5\n",
      "3\n"
     ]
    }
   ],
   "source": [
    "counting=0\n",
    "for i in range(len(columns)):\n",
    "    if 'Atk' in columns[i]:\n",
    "        print(columns[i])\n",
    "        counting+=1\n",
    "print(counting)"
   ]
  },
  {
   "cell_type": "code",
   "execution_count": 26,
   "metadata": {},
   "outputs": [
    {
     "name": "stdout",
     "output_type": "stream",
     "text": [
      "378\n"
     ]
    }
   ],
   "source": [
    "#for i in range(len(TheList)):\n",
    "#    if 'ConcdCounter_H' in TheList[i]:\n",
    "#        TheList[i]+=['ConcdCounterTotal_H','ConcdCounterTotal_A']\n",
    "        \n",
    "counting2=0\n",
    "for i in range(len(TheList)):\n",
    "    if 'WinCounterTotal_A' in TheList[i]:\n",
    "        #print(i)\n",
    "        counting2+=1\n",
    "print(counting2)"
   ]
  },
  {
   "cell_type": "code",
   "execution_count": 22,
   "metadata": {},
   "outputs": [
    {
     "data": {
      "text/plain": [
       "1457"
      ]
     },
     "execution_count": 22,
     "metadata": {},
     "output_type": "execute_result"
    }
   ],
   "source": [
    "len(TheList)"
   ]
  },
  {
   "cell_type": "code",
   "execution_count": 85,
   "metadata": {},
   "outputs": [
    {
     "ename": "EOFError",
     "evalue": "Ran out of input",
     "output_type": "error",
     "traceback": [
      "\u001b[1;31m---------------------------------------------------------------------------\u001b[0m",
      "\u001b[1;31mEOFError\u001b[0m                                  Traceback (most recent call last)",
      "\u001b[1;32m<ipython-input-85-825f38186b56>\u001b[0m in \u001b[0;36m<module>\u001b[1;34m\u001b[0m\n\u001b[0;32m      1\u001b[0m \u001b[0mwr0\u001b[0m\u001b[1;33m=\u001b[0m\u001b[0mopen\u001b[0m\u001b[1;33m(\u001b[0m\u001b[1;34m'Husky3_DeForestQ1.pickle'\u001b[0m\u001b[1;33m,\u001b[0m\u001b[1;34m'rb'\u001b[0m\u001b[1;33m)\u001b[0m\u001b[1;33m\u001b[0m\u001b[1;33m\u001b[0m\u001b[0m\n\u001b[1;32m----> 2\u001b[1;33m \u001b[0mwhit\u001b[0m\u001b[1;33m=\u001b[0m\u001b[0mpickle\u001b[0m\u001b[1;33m.\u001b[0m\u001b[0mload\u001b[0m\u001b[1;33m(\u001b[0m\u001b[0mwr0\u001b[0m\u001b[1;33m)\u001b[0m\u001b[1;33m\u001b[0m\u001b[1;33m\u001b[0m\u001b[0m\n\u001b[0m\u001b[0;32m      3\u001b[0m \u001b[0mwr0\u001b[0m\u001b[1;33m.\u001b[0m\u001b[0mclose\u001b[0m\u001b[1;33m\u001b[0m\u001b[1;33m\u001b[0m\u001b[0m\n",
      "\u001b[1;31mEOFError\u001b[0m: Ran out of input"
     ]
    }
   ],
   "source": [
    "wr0=open('Husky3_DeForestQ1.pickle','rb')\n",
    "whit=pickle.load(wr0)\n",
    "wr0.close"
   ]
  },
  {
   "cell_type": "code",
   "execution_count": 3,
   "metadata": {},
   "outputs": [],
   "source": [
    "df=pd.read_excel('Husky6_PL.xlsx')"
   ]
  },
  {
   "cell_type": "code",
   "execution_count": 14,
   "metadata": {},
   "outputs": [],
   "source": [
    "used=[]\n",
    "lista2=[]\n",
    "columns=list(df.columns)\n",
    "columns2=list(df.columns)"
   ]
  },
  {
   "cell_type": "code",
   "execution_count": 9,
   "metadata": {},
   "outputs": [
    {
     "data": {
      "text/plain": [
       "['League',\n",
       " 'Date',\n",
       " 'Time',\n",
       " 'HT',\n",
       " 'AT',\n",
       " 'Colx',\n",
       " 'HT_HPoints_5',\n",
       " 'AT_APoints_5',\n",
       " 'HA_HAPointsDiff',\n",
       " 'HT_TotalPoints_5',\n",
       " 'AT_TotalPoints_5',\n",
       " 'HA_TotalPointsDiff',\n",
       " 'SQuality_H5',\n",
       " 'SQuality_A5',\n",
       " 'SQuality_Diff5',\n",
       " 'HS_5',\n",
       " 'Last_H_S',\n",
       " 'HST_5',\n",
       " 'Last_H_ST',\n",
       " 'HScrd_5',\n",
       " 'Last_H_Scrd',\n",
       " 'HConcd_5',\n",
       " 'Last_H_Concd',\n",
       " 'AS_5',\n",
       " 'Last_A_S',\n",
       " 'AST_5',\n",
       " 'Last_A_ST',\n",
       " 'AScrd_5',\n",
       " 'Last_A_Scrd',\n",
       " 'AConcd_5',\n",
       " 'Last_A_Concd',\n",
       " 'S_Diff_H-A_5',\n",
       " 'ST_Diff_H-A_5',\n",
       " 'Scrd_Diff_H-A_5',\n",
       " 'Concd_Diff_H-A_5',\n",
       " 'WinCounterTotal_H',\n",
       " 'WinCounterTotal_A',\n",
       " 'WinCounter_H',\n",
       " 'WinCounter_A',\n",
       " 'ScrdCounterTotal_H',\n",
       " 'ScrdCounterTotal_A',\n",
       " 'ScrdCounter_H',\n",
       " 'ScrdCounter_A',\n",
       " 'ConcdCounterTotal_H',\n",
       " 'ConcdCounterTotal_A',\n",
       " 'ConcdCounter_H',\n",
       " 'ConcdCounter_A',\n",
       " 'Max_WinCounterTotal_H',\n",
       " 'Max_WinCounterTotal_A',\n",
       " 'Max_WinCounter_H',\n",
       " 'Max_WinCounter_A',\n",
       " 'Max_ScrdCounterTotal_H',\n",
       " 'Max_ScrdCounterTotal_A',\n",
       " 'Max_ScrdCounter_H',\n",
       " 'Max_ScrdCounter_A',\n",
       " 'Max_ConcdCounterTotal_H',\n",
       " 'Max_ConcdCounterTotal_A',\n",
       " 'Max_ConcdCounter_H',\n",
       " 'Max_ConcdCounter_A',\n",
       " 'Min_WinCounterTotal_H',\n",
       " 'Min_WinCounterTotal_A',\n",
       " 'Min_WinCounter_H',\n",
       " 'Min_WinCounter_A',\n",
       " 'Min_ScrdCounterTotal_H',\n",
       " 'Min_ScrdCounterTotal_A',\n",
       " 'Min_ScrdCounter_H',\n",
       " 'Min_ScrdCounter_A',\n",
       " 'Min_ConcdCounterTotal_H',\n",
       " 'Min_ConcdCounterTotal_A',\n",
       " 'Min_ConcdCounter_H',\n",
       " 'Min_ConcdCounter_A',\n",
       " 'STForm_H5',\n",
       " 'STForm_A5',\n",
       " 'STForm_Diff5',\n",
       " 'CCCForm_H5',\n",
       " 'CCCForm_A5',\n",
       " 'CCCForm_Diff5',\n",
       " 'PassForm_H5',\n",
       " 'PassForm_A5',\n",
       " 'PassForm_Diff5']"
      ]
     },
     "execution_count": 9,
     "metadata": {},
     "output_type": "execute_result"
    }
   ],
   "source": [
    "columns"
   ]
  },
  {
   "cell_type": "code",
   "execution_count": 42,
   "metadata": {},
   "outputs": [
    {
     "data": {
      "text/plain": [
       "['League',\n",
       " 'Date',\n",
       " 'Time',\n",
       " 'HT',\n",
       " 'AT',\n",
       " 0,\n",
       " 0,\n",
       " 0,\n",
       " 0,\n",
       " 0,\n",
       " 0,\n",
       " 0,\n",
       " 0,\n",
       " 0,\n",
       " 0,\n",
       " 0,\n",
       " 0,\n",
       " 0,\n",
       " 0,\n",
       " 0,\n",
       " 0,\n",
       " 0,\n",
       " 0,\n",
       " 0,\n",
       " 0,\n",
       " 0,\n",
       " 'HPass%_5',\n",
       " 'Last_HPass%',\n",
       " 'HPPDA_5',\n",
       " 'Last_HPPDA',\n",
       " 'HDEEP_5',\n",
       " 'Last_HDEEP',\n",
       " 'HCCC_5',\n",
       " 'Last_HCCC',\n",
       " 0,\n",
       " 0,\n",
       " 0,\n",
       " 0,\n",
       " 0,\n",
       " 'APass%_5',\n",
       " 'Last_APass%',\n",
       " 'APPDA_5',\n",
       " 'Last_APPDA',\n",
       " 'ADEEP_5',\n",
       " 'Last_ADEEP',\n",
       " 'ACCC_5',\n",
       " 'Last_ACCC',\n",
       " 0,\n",
       " 0,\n",
       " 0,\n",
       " 0,\n",
       " 'Pass%_Diff_5',\n",
       " 'PPDA_Diff_5',\n",
       " 'DEEP_Diff_5',\n",
       " 'CCC_Diff_5',\n",
       " 0,\n",
       " 0,\n",
       " 0,\n",
       " 0,\n",
       " 'HS_5',\n",
       " 'Last_H_S',\n",
       " 'HST_5',\n",
       " 'Last_H_ST',\n",
       " 'HScrd_5',\n",
       " 'Last_H_Scrd',\n",
       " 'HConcd_5',\n",
       " 'Last_H_Concd',\n",
       " 'AS_5',\n",
       " 'Last_A_S',\n",
       " 'AST_5',\n",
       " 'Last_A_ST',\n",
       " 'AScrd_5',\n",
       " 'Last_A_Scrd',\n",
       " 'AConcd_5',\n",
       " 'Last_A_Concd',\n",
       " 'S_Diff_H-A_5',\n",
       " 'ST_Diff_H-A_5',\n",
       " 'Scrd_Diff_H-A_5',\n",
       " 'Concd_Diff_H-A_5',\n",
       " 0,\n",
       " 0,\n",
       " 0,\n",
       " 0,\n",
       " 0,\n",
       " 0,\n",
       " 0,\n",
       " 0,\n",
       " 0,\n",
       " 0,\n",
       " 0,\n",
       " 0,\n",
       " 0,\n",
       " 0,\n",
       " 0,\n",
       " 0,\n",
       " 0,\n",
       " 0,\n",
       " 0,\n",
       " 0,\n",
       " 0,\n",
       " 0,\n",
       " 0,\n",
       " 0,\n",
       " 0,\n",
       " 0,\n",
       " 0,\n",
       " 0,\n",
       " 0,\n",
       " 0,\n",
       " 0,\n",
       " 0,\n",
       " 0,\n",
       " 0,\n",
       " 0,\n",
       " 0,\n",
       " 0,\n",
       " 0,\n",
       " 0,\n",
       " 0,\n",
       " 0,\n",
       " 0,\n",
       " 0,\n",
       " 0,\n",
       " 0,\n",
       " 0,\n",
       " 0,\n",
       " 0,\n",
       " 0,\n",
       " 0,\n",
       " 0,\n",
       " 'Form1_H5',\n",
       " 'Form1_A5',\n",
       " 'Form1_Diff5',\n",
       " 'Form2_H5',\n",
       " 'Form2_A5',\n",
       " 'Form2_Diff5',\n",
       " 'Form3_H5',\n",
       " 'Form3_A5',\n",
       " 'Form3_Diff5',\n",
       " 0,\n",
       " 0,\n",
       " 0,\n",
       " 'Won/NotWon',\n",
       " 'ODDH_Aver.',\n",
       " 'ODDD_Aver.',\n",
       " 'ODDA_Aver.']"
      ]
     },
     "execution_count": 42,
     "metadata": {},
     "output_type": "execute_result"
    }
   ],
   "source": [
    "columns2"
   ]
  },
  {
   "cell_type": "code",
   "execution_count": 41,
   "metadata": {},
   "outputs": [
    {
     "name": "stdout",
     "output_type": "stream",
     "text": [
      "NewForm_H5\n",
      "NewForm_A5\n",
      "NewForm_Diff5\n"
     ]
    }
   ],
   "source": [
    "a=[]\n",
    "w=0\n",
    "for w in range(len(columns)):\n",
    "    i=columns[w]\n",
    "    if ('NewForm' in i) and ('xP' not in i):\n",
    "        print(i)\n",
    "        a+=[i]\n",
    "        columns2[w]=0\n",
    "used+=a\n",
    "lista2+=[a]"
   ]
  },
  {
   "cell_type": "code",
   "execution_count": 43,
   "metadata": {},
   "outputs": [
    {
     "data": {
      "text/plain": [
       "21"
      ]
     },
     "execution_count": 43,
     "metadata": {},
     "output_type": "execute_result"
    }
   ],
   "source": [
    "len(lista2)"
   ]
  },
  {
   "cell_type": "code",
   "execution_count": 27,
   "metadata": {},
   "outputs": [
    {
     "data": {
      "text/plain": [
       "[['PassForm_H5', 'PassForm_A5', 'PassForm_Diff5'],\n",
       " ['STForm_H5', 'STForm_A5', 'STForm_Diff5'],\n",
       " ['CCCForm_H5', 'CCCForm_A5', 'CCCForm_Diff5'],\n",
       " ['DEEPForm_H5', 'DEEPForm_A5', 'DEEPForm_Diff5'],\n",
       " ['PPDAForm_H5', 'PPDAForm_A5', 'PPDAForm_Diff5'],\n",
       " ['SQuality_H5', 'SQuality_A5', 'SQuality_Diff5'],\n",
       " ['WinCounterTotal_H', 'WinCounterTotal_A', 'WinCounterH_H', 'WinCounterA_A'],\n",
       " ['ScrdCounterTotal_H',\n",
       "  'ScrdCounterTotal_A',\n",
       "  'ScrdCounterH_H',\n",
       "  'ScrdCounterTotalA_A'],\n",
       " ['ConcdCounterTotal_H',\n",
       "  'ConcdCounterTotal_A',\n",
       "  'ConcdCounterH_H',\n",
       "  'ConcdCounterA_A'],\n",
       " ['ConcdPercTotal_H', 'ConcdPercTotal_A', 'ConcdPercH_H', 'ConcdPercA_A'],\n",
       " ['ScrdPercTotal_H', 'ScrdPercTotal_A', 'ScrdPercH_H', 'ScrdPercTotalA_A'],\n",
       " ['WinPercTotal_H', 'WinPercTotal_A', 'WinPercH_H', 'WinPercA_A']]"
      ]
     },
     "execution_count": 27,
     "metadata": {},
     "output_type": "execute_result"
    }
   ],
   "source": [
    "lista2"
   ]
  },
  {
   "cell_type": "code",
   "execution_count": 28,
   "metadata": {},
   "outputs": [
    {
     "data": {
      "text/plain": [
       "[[1, 3], [4, 5, 6], [7, 8, 9]]"
      ]
     },
     "execution_count": 28,
     "metadata": {},
     "output_type": "execute_result"
    }
   ],
   "source": [
    "a = [[1,2,3],[4,5,6],[7,8,9]]\n",
    "del a[0][1]\n",
    "a"
   ]
  },
  {
   "cell_type": "code",
   "execution_count": 147,
   "metadata": {},
   "outputs": [
    {
     "name": "stdout",
     "output_type": "stream",
     "text": [
      "Form1_H5 ,\n",
      "Form1_A5 ,\n",
      "Form1_Diff5 ,\n",
      "Form2_H5 ,\n",
      "Form2_A5 ,\n",
      "Form2_Diff5 ,\n",
      "Form3_H5 ,\n",
      "Form3_A5 ,\n",
      "Form3_Diff5 ,\n",
      "NewForm_H5 ,\n",
      "NewForm_A5 ,\n",
      "NewForm_Diff5 ,\n"
     ]
    }
   ],
   "source": [
    "for i in df.columns:  \n",
    "    if 'Form1' in i or 'Form2' in i or 'Form3' in i or 'NewForm' in i:\n",
    "        print(i,',')"
   ]
  },
  {
   "cell_type": "code",
   "execution_count": 23,
   "metadata": {},
   "outputs": [
    {
     "data": {
      "text/plain": [
       "13"
      ]
     },
     "execution_count": 23,
     "metadata": {},
     "output_type": "execute_result"
    }
   ],
   "source": [
    "len(lista2)"
   ]
  },
  {
   "cell_type": "code",
   "execution_count": 53,
   "metadata": {},
   "outputs": [],
   "source": [
    "for i in range(len(lista2)):\n",
    "    n=0\n",
    "    while n<len(lista2[i]):\n",
    "        if 'Last' in lista2[i][n]:\n",
    "            del lista2[i][n]\n",
    "        else:\n",
    "            n+=1"
   ]
  },
  {
   "cell_type": "code",
   "execution_count": 54,
   "metadata": {},
   "outputs": [
    {
     "data": {
      "text/plain": [
       "15"
      ]
     },
     "execution_count": 54,
     "metadata": {},
     "output_type": "execute_result"
    }
   ],
   "source": [
    "len(lista2)"
   ]
  },
  {
   "cell_type": "code",
   "execution_count": 55,
   "metadata": {},
   "outputs": [
    {
     "name": "stdout",
     "output_type": "stream",
     "text": [
      "Form1_H5 Form1_A5\n",
      "Check? q\n",
      "Form2_H5 Form2_A5\n",
      "Check? q\n",
      "Form3_H5 Form3_A5\n",
      "Check? q\n",
      "NewForm_H5 NewForm_A5\n",
      "Check? q\n",
      "Lucky_H5 Lucky_A5\n",
      "Check? q\n",
      "Unlucky_H5 Unlucky_A5\n",
      "Check? q\n",
      "HxG_5 AxG_5\n",
      "Check? q\n",
      "AtkForm_H5 AtkForm_A5\n",
      "Check? q\n",
      "HxConcd_5 AxConcd_5\n",
      "Check? q\n",
      "DeForm_H5 DeForm_A5\n",
      "Check? q\n",
      "HConcd_5 AConcd_5\n",
      "Check? q\n",
      "ConcdCounterTotal_H ConcdCounterTotal_A\n",
      "Check? q\n",
      "ConcdCounter_H ConcdCounter_A\n",
      "Check? q\n",
      "Max_ConcdCounterTotal_H Max_ConcdCounterTotal_A\n",
      "Check? q\n",
      "Max_ConcdCounter_H Max_ConcdCounter_A\n",
      "Check? q\n",
      "Min_ConcdCounterTotal_H Min_ConcdCounterTotal_A\n",
      "Check? q\n",
      "Min_ConcdCounter_H Min_ConcdCounter_A\n",
      "Check? q\n",
      "H_xPts_Total A_xPts_Total\n",
      "Check? q\n",
      "H_xPts_H A_xPts_A\n",
      "Check? q\n",
      "H_xPts_Total5 A_xPts_Total5\n",
      "Check? q\n",
      "H_xPts_H5 A_xPts_A5\n",
      "Check? q\n",
      "HScrd_5 AScrd_5\n",
      "Check? q\n",
      "ScrdCounterTotal_H ScrdCounterTotal_A\n",
      "Check? q\n",
      "ScrdCounter_H ScrdCounter_A\n",
      "Check? q\n",
      "Max_ScrdCounterTotal_H Max_ScrdCounterTotal_A\n",
      "Check? q\n",
      "Max_ScrdCounter_H Max_ScrdCounter_A\n",
      "Check? q\n",
      "Min_ScrdCounterTotal_H Min_ScrdCounterTotal_A\n",
      "Check? q\n",
      "Min_ScrdCounter_H Min_ScrdCounter_A\n",
      "Check? q\n",
      "WinCounterTotal_H WinCounterTotal_A\n",
      "Check? q\n",
      "WinCounter_H WinCounter_A\n",
      "Check? q\n",
      "Max_WinCounterTotal_H Max_WinCounterTotal_A\n",
      "Check? q\n",
      "Max_WinCounter_H Max_WinCounter_A\n",
      "Check? q\n",
      "Min_WinCounterTotal_H Min_WinCounterTotal_A\n",
      "Check? q\n",
      "Min_WinCounter_H Min_WinCounter_A\n",
      "Check? q\n",
      "HST_5 AST_5\n",
      "Check? q\n",
      "STForm_H5 STForm_A5\n",
      "Check? q\n",
      "SQuality_H5 SQuality_A5\n",
      "Check? q\n",
      "HPPDA_5 APPDA_5\n",
      "Check? q\n",
      "PPDAForm_H5 PPDAForm_A5\n",
      "Check? q\n",
      "HCCC_5 ACCC_5\n",
      "Check? q\n",
      "CCCForm_H5 CCCForm_A5\n",
      "Check? q\n",
      "HDEEP_5 ADEEP_5\n",
      "Check? q\n",
      "DEEPForm_H5 DEEPForm_A5\n",
      "Check? q\n",
      "HPass%_5 APass%_5\n",
      "Check? q\n",
      "PassForm_H5 PassForm_A5\n",
      "Check? q\n",
      "HT_HPoints_5 AT_APoints_5\n",
      "Check? q\n",
      "HT_TotalPoints_5 AT_TotalPoints_5\n",
      "Check? q\n"
     ]
    }
   ],
   "source": [
    "lista3=[0]*len(lista2)\n",
    "for i in range(len(lista2)):\n",
    "    join=[]\n",
    "    n=0\n",
    "    while n<len(lista2[i]):\n",
    "        #print('n',n)\n",
    "        if n==0:\n",
    "            dici={}\n",
    "            for l in lista2[i][n]:\n",
    "                if l not in dici:\n",
    "                    dici[l]=0\n",
    "                dici[l]+=1\n",
    "            dici2=dici.copy()\n",
    "            if 'H' in dici:\n",
    "                del dici['H']\n",
    "            if 'A' in dici:\n",
    "                del dici['A']\n",
    "            join+=[[dici,lista2[i][n]]]\n",
    "            n+=1\n",
    "        else:\n",
    "            dici={}\n",
    "            for l in lista2[i][n]:\n",
    "                if l not in dici:\n",
    "                    dici[l]=0\n",
    "                dici[l]+=1\n",
    "            dici2=dici.copy()\n",
    "            if 'H' in dici:\n",
    "                del dici['H']\n",
    "            if 'A' in dici:\n",
    "                del dici['A']\n",
    "            found=False\n",
    "            nn=0\n",
    "            while nn<len(join) and not(found):\n",
    "                #print(lista2[i][n],join[nn][1])\n",
    "                if dici == join[nn][0]:\n",
    "                    print(join[nn][1],lista2[i][n])\n",
    "                    check = input('Check? ')\n",
    "                    if check=='q':\n",
    "                        if lista3[i]==0:\n",
    "                            lista3[i]=[[join[nn][1],lista2[i][n]]]\n",
    "                        else:\n",
    "                            lista3[i]+=[[join[nn][1],lista2[i][n]]]\n",
    "                        found=True\n",
    "                    else:\n",
    "                        raise('aaa')\n",
    "                nn+=1\n",
    "            if not(found):\n",
    "                #print('been here')\n",
    "                dici={}\n",
    "                for l in lista2[i][n]:\n",
    "                    if l not in dici:\n",
    "                        dici[l]=0\n",
    "                    dici[l]+=1\n",
    "                dici2=dici.copy()\n",
    "                if 'H' in dici:\n",
    "                    del dici['H']\n",
    "                if 'A' in dici:\n",
    "                    del dici['A']\n",
    "                join+=[[dici,lista2[i][n]]]\n",
    "                \n",
    "            n+=1"
   ]
  },
  {
   "cell_type": "code",
   "execution_count": 56,
   "metadata": {},
   "outputs": [
    {
     "data": {
      "text/plain": [
       "15"
      ]
     },
     "execution_count": 56,
     "metadata": {},
     "output_type": "execute_result"
    }
   ],
   "source": [
    "len(lista3)"
   ]
  },
  {
   "cell_type": "code",
   "execution_count": 57,
   "metadata": {},
   "outputs": [
    {
     "data": {
      "text/plain": [
       "[[['Form1_H5', 'Form1_A5'],\n",
       "  ['Form2_H5', 'Form2_A5'],\n",
       "  ['Form3_H5', 'Form3_A5'],\n",
       "  ['NewForm_H5', 'NewForm_A5']],\n",
       " [['Lucky_H5', 'Lucky_A5'], ['Unlucky_H5', 'Unlucky_A5']],\n",
       " [['HxG_5', 'AxG_5'], ['AtkForm_H5', 'AtkForm_A5']],\n",
       " [['HxConcd_5', 'AxConcd_5'], ['DeForm_H5', 'DeForm_A5']],\n",
       " [['HConcd_5', 'AConcd_5'],\n",
       "  ['ConcdCounterTotal_H', 'ConcdCounterTotal_A'],\n",
       "  ['ConcdCounter_H', 'ConcdCounter_A'],\n",
       "  ['Max_ConcdCounterTotal_H', 'Max_ConcdCounterTotal_A'],\n",
       "  ['Max_ConcdCounter_H', 'Max_ConcdCounter_A'],\n",
       "  ['Min_ConcdCounterTotal_H', 'Min_ConcdCounterTotal_A'],\n",
       "  ['Min_ConcdCounter_H', 'Min_ConcdCounter_A']],\n",
       " [['H_xPts_Total', 'A_xPts_Total'],\n",
       "  ['H_xPts_H', 'A_xPts_A'],\n",
       "  ['H_xPts_Total5', 'A_xPts_Total5'],\n",
       "  ['H_xPts_H5', 'A_xPts_A5']],\n",
       " [['HScrd_5', 'AScrd_5'],\n",
       "  ['ScrdCounterTotal_H', 'ScrdCounterTotal_A'],\n",
       "  ['ScrdCounter_H', 'ScrdCounter_A'],\n",
       "  ['Max_ScrdCounterTotal_H', 'Max_ScrdCounterTotal_A'],\n",
       "  ['Max_ScrdCounter_H', 'Max_ScrdCounter_A'],\n",
       "  ['Min_ScrdCounterTotal_H', 'Min_ScrdCounterTotal_A'],\n",
       "  ['Min_ScrdCounter_H', 'Min_ScrdCounter_A']],\n",
       " [['WinCounterTotal_H', 'WinCounterTotal_A'],\n",
       "  ['WinCounter_H', 'WinCounter_A'],\n",
       "  ['Max_WinCounterTotal_H', 'Max_WinCounterTotal_A'],\n",
       "  ['Max_WinCounter_H', 'Max_WinCounter_A'],\n",
       "  ['Min_WinCounterTotal_H', 'Min_WinCounterTotal_A'],\n",
       "  ['Min_WinCounter_H', 'Min_WinCounter_A']],\n",
       " [['HST_5', 'AST_5'], ['STForm_H5', 'STForm_A5']],\n",
       " [['SQuality_H5', 'SQuality_A5']],\n",
       " [['HPPDA_5', 'APPDA_5'], ['PPDAForm_H5', 'PPDAForm_A5']],\n",
       " [['HCCC_5', 'ACCC_5'], ['CCCForm_H5', 'CCCForm_A5']],\n",
       " [['HDEEP_5', 'ADEEP_5'], ['DEEPForm_H5', 'DEEPForm_A5']],\n",
       " [['HPass%_5', 'APass%_5'], ['PassForm_H5', 'PassForm_A5']],\n",
       " [['HT_HPoints_5', 'AT_APoints_5'], ['HT_TotalPoints_5', 'AT_TotalPoints_5']]]"
      ]
     },
     "execution_count": 57,
     "metadata": {},
     "output_type": "execute_result"
    }
   ],
   "source": [
    "lista3"
   ]
  },
  {
   "cell_type": "code",
   "execution_count": 41,
   "metadata": {},
   "outputs": [
    {
     "name": "stdout",
     "output_type": "stream",
     "text": [
      "True\n",
      "True\n",
      "True\n",
      "True\n",
      "True\n",
      "True\n",
      "True\n",
      "True\n",
      "True\n",
      "True\n",
      "True\n",
      "True\n",
      "True\n",
      "True\n",
      "True\n"
     ]
    }
   ],
   "source": [
    "for i in range(len(lista2)):\n",
    "    print(len(lista2[i])==(2*len(lista3[i])))"
   ]
  },
  {
   "cell_type": "markdown",
   "metadata": {},
   "source": [
    "# ------------------------------------------------\n",
    "--------------------------------------------------"
   ]
  },
  {
   "cell_type": "code",
   "execution_count": 113,
   "metadata": {},
   "outputs": [],
   "source": [
    "lista2_noform = lista2[:-7]+lista2[-6:]"
   ]
  },
  {
   "cell_type": "code",
   "execution_count": 115,
   "metadata": {},
   "outputs": [
    {
     "data": {
      "text/plain": [
       "16"
      ]
     },
     "execution_count": 115,
     "metadata": {},
     "output_type": "execute_result"
    }
   ],
   "source": [
    "len(lista2_noform)"
   ]
  },
  {
   "cell_type": "code",
   "execution_count": 116,
   "metadata": {},
   "outputs": [],
   "source": [
    "lista2_copy = lista2.copy()"
   ]
  },
  {
   "cell_type": "code",
   "execution_count": 39,
   "metadata": {},
   "outputs": [],
   "source": [
    "lista2 = lista2_copy.copy()"
   ]
  },
  {
   "cell_type": "code",
   "execution_count": 40,
   "metadata": {},
   "outputs": [
    {
     "data": {
      "text/plain": [
       "17"
      ]
     },
     "execution_count": 40,
     "metadata": {},
     "output_type": "execute_result"
    }
   ],
   "source": [
    "len(lista2)"
   ]
  },
  {
   "cell_type": "code",
   "execution_count": 46,
   "metadata": {},
   "outputs": [],
   "source": [
    "forms=[]\n",
    "iterz=list(itertools.combinations(lista2,3))\n",
    "size=len(iterz)\n",
    "forms=[list(iterz[i]) for i in range(size)]"
   ]
  },
  {
   "cell_type": "code",
   "execution_count": 47,
   "metadata": {},
   "outputs": [
    {
     "data": {
      "text/plain": [
       "1330"
      ]
     },
     "execution_count": 47,
     "metadata": {},
     "output_type": "execute_result"
    }
   ],
   "source": [
    "len(forms)"
   ]
  },
  {
   "cell_type": "code",
   "execution_count": 48,
   "metadata": {},
   "outputs": [],
   "source": [
    "Ulti = [lista2]+forms"
   ]
  },
  {
   "cell_type": "code",
   "execution_count": 119,
   "metadata": {},
   "outputs": [
    {
     "data": {
      "text/plain": [
       "681"
      ]
     },
     "execution_count": 119,
     "metadata": {},
     "output_type": "execute_result"
    }
   ],
   "source": [
    "Ulti_small = [lista2]+forms\n",
    "len(Ulti_small)"
   ]
  },
  {
   "cell_type": "code",
   "execution_count": 58,
   "metadata": {},
   "outputs": [],
   "source": [
    "lista3_copy=lista3.copy()\n"
   ]
  },
  {
   "cell_type": "code",
   "execution_count": 59,
   "metadata": {},
   "outputs": [
    {
     "data": {
      "text/plain": [
       "15"
      ]
     },
     "execution_count": 59,
     "metadata": {},
     "output_type": "execute_result"
    }
   ],
   "source": [
    "len(lista3)"
   ]
  },
  {
   "cell_type": "code",
   "execution_count": 38,
   "metadata": {},
   "outputs": [],
   "source": [
    "del lista2[0]"
   ]
  },
  {
   "cell_type": "code",
   "execution_count": 41,
   "metadata": {},
   "outputs": [],
   "source": [
    "lista2_noform = lista2[1:]"
   ]
  },
  {
   "cell_type": "code",
   "execution_count": 138,
   "metadata": {},
   "outputs": [],
   "source": [
    "Ulti = forms + first111"
   ]
  },
  {
   "cell_type": "code",
   "execution_count": 139,
   "metadata": {},
   "outputs": [],
   "source": [
    "Ulti = [lista2]+Ulti"
   ]
  },
  {
   "cell_type": "code",
   "execution_count": 140,
   "metadata": {},
   "outputs": [
    {
     "data": {
      "text/plain": [
       "1241"
      ]
     },
     "execution_count": 140,
     "metadata": {},
     "output_type": "execute_result"
    }
   ],
   "source": [
    "len(Ulti)"
   ]
  },
  {
   "cell_type": "code",
   "execution_count": 44,
   "metadata": {},
   "outputs": [
    {
     "data": {
      "text/plain": [
       "15"
      ]
     },
     "execution_count": 44,
     "metadata": {},
     "output_type": "execute_result"
    }
   ],
   "source": [
    "len(lista2)"
   ]
  },
  {
   "cell_type": "code",
   "execution_count": 80,
   "metadata": {},
   "outputs": [],
   "source": [
    "Ulti = [lista3_copy]+Ulti"
   ]
  },
  {
   "cell_type": "code",
   "execution_count": 136,
   "metadata": {},
   "outputs": [],
   "source": [
    "first111=[]\n",
    "iterz=list(itertools.combinations(lista2_noform,3))\n",
    "size=len(iterz)\n",
    "first111+=[list(iterz[i]) for i in range(size)]"
   ]
  },
  {
   "cell_type": "code",
   "execution_count": 137,
   "metadata": {},
   "outputs": [
    {
     "data": {
      "text/plain": [
       "560"
      ]
     },
     "execution_count": 137,
     "metadata": {},
     "output_type": "execute_result"
    }
   ],
   "source": [
    "len(first111)\n",
    "#len(forms)"
   ]
  },
  {
   "cell_type": "code",
   "execution_count": 91,
   "metadata": {},
   "outputs": [
    {
     "data": {
      "text/plain": [
       "[[['H_xPts_Total', 'A_xPts_Total'],\n",
       "  ['H_xPts_H', 'A_xPts_A'],\n",
       "  ['HxPTS_5', 'AxPTS_5']],\n",
       " [['HxG_5', 'AxG_5']],\n",
       " [['HxConcd_5', 'AxConcd_5']],\n",
       " [['Lucky_H5', 'Lucky_A5'], ['Unlucky_H5', 'Unlucky_A5']]]"
      ]
     },
     "execution_count": 91,
     "metadata": {},
     "output_type": "execute_result"
    }
   ],
   "source": [
    "first111[-1]"
   ]
  },
  {
   "cell_type": "code",
   "execution_count": 51,
   "metadata": {},
   "outputs": [],
   "source": [
    "Ulti= forms + first111"
   ]
  },
  {
   "cell_type": "code",
   "execution_count": 52,
   "metadata": {},
   "outputs": [
    {
     "data": {
      "text/plain": [
       "2500"
      ]
     },
     "execution_count": 52,
     "metadata": {},
     "output_type": "execute_result"
    }
   ],
   "source": [
    "len(Ulti)"
   ]
  },
  {
   "cell_type": "code",
   "execution_count": 83,
   "metadata": {},
   "outputs": [
    {
     "data": {
      "text/plain": [
       "[[['HCCC_5', 'ACCC_5'], ['CCCForm_H5', 'CCCForm_A5']],\n",
       " [['HDEEP_5', 'ADEEP_5'], ['DEEPForm_H5', 'DEEPForm_A5']],\n",
       " [['HPass%_5', 'APass%_5'], ['PassForm_H5', 'PassForm_A5']],\n",
       " [['HT_HPoints_5', 'AT_APoints_5'], ['HT_TotalPoints_5', 'AT_TotalPoints_5']]]"
      ]
     },
     "execution_count": 83,
     "metadata": {},
     "output_type": "execute_result"
    }
   ],
   "source": [
    "Ulti[-1]"
   ]
  },
  {
   "cell_type": "code",
   "execution_count": 70,
   "metadata": {},
   "outputs": [],
   "source": [
    "lista3_copy = lista3.copy()"
   ]
  },
  {
   "cell_type": "code",
   "execution_count": 71,
   "metadata": {},
   "outputs": [],
   "source": [
    "lista3_noform = lista3[1:]"
   ]
  },
  {
   "cell_type": "code",
   "execution_count": 73,
   "metadata": {},
   "outputs": [
    {
     "data": {
      "text/plain": [
       "14"
      ]
     },
     "execution_count": 73,
     "metadata": {},
     "output_type": "execute_result"
    }
   ],
   "source": [
    "len(lista3_noform)"
   ]
  },
  {
   "cell_type": "code",
   "execution_count": null,
   "metadata": {},
   "outputs": [],
   "source": []
  },
  {
   "cell_type": "code",
   "execution_count": 138,
   "metadata": {},
   "outputs": [],
   "source": [
    "Ulti=[lista2]+Ulti"
   ]
  },
  {
   "cell_type": "code",
   "execution_count": 89,
   "metadata": {},
   "outputs": [
    {
     "data": {
      "text/plain": [
       "[['Form1_H5', 'Form1_A5'],\n",
       " ['Form2_H5', 'Form2_A5'],\n",
       " ['Form3_H5', 'Form3_A5'],\n",
       " ['NewForm_H5', 'NewForm_A5'],\n",
       " ['Lucky_H5', 'Lucky_A5'],\n",
       " ['Unlucky_H5', 'Unlucky_A5'],\n",
       " ['HxG_5', 'AxG_5'],\n",
       " ['AtkForm_H5', 'AtkForm_A5']]"
      ]
     },
     "execution_count": 89,
     "metadata": {},
     "output_type": "execute_result"
    }
   ],
   "source": [
    "Ulti2[1]"
   ]
  },
  {
   "cell_type": "code",
   "execution_count": 37,
   "metadata": {},
   "outputs": [],
   "source": [
    "Ulti_copy = Ulti.copy()"
   ]
  },
  {
   "cell_type": "code",
   "execution_count": 132,
   "metadata": {},
   "outputs": [],
   "source": [
    "ok00=open('Husky3_DeForestQ1.pickle','wb')\n",
    "pickle.dump(Ulti2,ok00)\n",
    "ok00.close()"
   ]
  },
  {
   "cell_type": "code",
   "execution_count": 143,
   "metadata": {},
   "outputs": [],
   "source": [
    "ok11=open('Husky3_DeForestQ1_Small.pickle','wb')\n",
    "pickle.dump(Ulti2,ok11)\n",
    "ok11.close()"
   ]
  },
  {
   "cell_type": "code",
   "execution_count": 9,
   "metadata": {},
   "outputs": [
    {
     "data": {
      "text/plain": [
       "[['WinCounterTotal_H', 'WinCounterTotal_A'],\n",
       " ['WinCounter_H', 'WinCounter_A'],\n",
       " ['HST_5', 'AST_5'],\n",
       " ['STForm_H5', 'STForm_A5'],\n",
       " ['HScrd_5', 'AScrd_5'],\n",
       " ['ScrdCounterTotal_H', 'ScrdCounterTotal_A'],\n",
       " ['ScrdCounter_H', 'ScrdCounter_A']]"
      ]
     },
     "execution_count": 9,
     "metadata": {},
     "output_type": "execute_result"
    }
   ],
   "source": [
    "list(itertools.chain(*aa))"
   ]
  },
  {
   "cell_type": "code",
   "execution_count": 25,
   "metadata": {},
   "outputs": [],
   "source": [
    "def name_index(df,column): #transforma o nome das colunas nos índices correspondentes\n",
    "    columnz=df.columns\n",
    "    retur = ['a']*2\n",
    "    for w,i in enumerate(columnz):\n",
    "        if retur[0]!='a' and retur[1]!='a':\n",
    "            return retur\n",
    "        if i==column[0]:\n",
    "            retur[0]=w\n",
    "        elif i==column[1]:\n",
    "            retur[1]=w\n",
    "        \n"
   ]
  },
  {
   "cell_type": "code",
   "execution_count": 42,
   "metadata": {},
   "outputs": [
    {
     "ename": "NameError",
     "evalue": "name 'name_index' is not defined",
     "output_type": "error",
     "traceback": [
      "\u001b[1;31m---------------------------------------------------------------------------\u001b[0m",
      "\u001b[1;31mNameError\u001b[0m                                 Traceback (most recent call last)",
      "\u001b[1;32m<ipython-input-42-ab1c5b41983d>\u001b[0m in \u001b[0;36m<module>\u001b[1;34m\u001b[0m\n\u001b[0;32m      1\u001b[0m \u001b[1;32mfor\u001b[0m \u001b[0mi\u001b[0m \u001b[1;32min\u001b[0m \u001b[0mrange\u001b[0m\u001b[1;33m(\u001b[0m\u001b[0mlen\u001b[0m\u001b[1;33m(\u001b[0m\u001b[0mUlti\u001b[0m\u001b[1;33m)\u001b[0m\u001b[1;33m)\u001b[0m\u001b[1;33m:\u001b[0m\u001b[1;33m\u001b[0m\u001b[1;33m\u001b[0m\u001b[0m\n\u001b[1;32m----> 2\u001b[1;33m     \u001b[0mok\u001b[0m\u001b[1;33m=\u001b[0m\u001b[0mlist\u001b[0m\u001b[1;33m(\u001b[0m\u001b[0mmap\u001b[0m\u001b[1;33m(\u001b[0m\u001b[0mname_index\u001b[0m\u001b[1;33m,\u001b[0m\u001b[1;33m[\u001b[0m\u001b[0mdf\u001b[0m\u001b[1;33m]\u001b[0m\u001b[1;33m*\u001b[0m\u001b[0mlen\u001b[0m\u001b[1;33m(\u001b[0m\u001b[0mUlti\u001b[0m\u001b[1;33m[\u001b[0m\u001b[0mi\u001b[0m\u001b[1;33m]\u001b[0m\u001b[1;33m)\u001b[0m\u001b[1;33m,\u001b[0m\u001b[1;33m[\u001b[0m\u001b[0mUlti\u001b[0m\u001b[1;33m[\u001b[0m\u001b[0mi\u001b[0m\u001b[1;33m]\u001b[0m\u001b[1;33m[\u001b[0m\u001b[0mn\u001b[0m\u001b[1;33m]\u001b[0m \u001b[1;32mfor\u001b[0m \u001b[0mn\u001b[0m \u001b[1;32min\u001b[0m \u001b[0mrange\u001b[0m\u001b[1;33m(\u001b[0m\u001b[0mlen\u001b[0m\u001b[1;33m(\u001b[0m\u001b[0mUlti\u001b[0m\u001b[1;33m[\u001b[0m\u001b[0mi\u001b[0m\u001b[1;33m]\u001b[0m\u001b[1;33m)\u001b[0m\u001b[1;33m)\u001b[0m\u001b[1;33m]\u001b[0m\u001b[1;33m)\u001b[0m\u001b[1;33m)\u001b[0m\u001b[1;33m\u001b[0m\u001b[1;33m\u001b[0m\u001b[0m\n\u001b[0m\u001b[0;32m      3\u001b[0m     \u001b[0mUlti_ind\u001b[0m\u001b[1;33m+=\u001b[0m\u001b[1;33m[\u001b[0m\u001b[0mok\u001b[0m\u001b[1;33m]\u001b[0m\u001b[1;33m\u001b[0m\u001b[1;33m\u001b[0m\u001b[0m\n",
      "\u001b[1;31mNameError\u001b[0m: name 'name_index' is not defined"
     ]
    }
   ],
   "source": [
    "for i in range(len(Ulti)):\n",
    "    ok=list(map(name_index,[df]*len(Ulti[i]),[Ulti[i][n] for n in range(len(Ulti[i]))]))\n",
    "    Ulti_ind+=[ok]"
   ]
  },
  {
   "cell_type": "code",
   "execution_count": 53,
   "metadata": {},
   "outputs": [],
   "source": [
    "Ulti_copy = Ulti.copy()"
   ]
  },
  {
   "cell_type": "code",
   "execution_count": 58,
   "metadata": {},
   "outputs": [],
   "source": [
    "Ulti = Ulti_copy.copy()"
   ]
  },
  {
   "cell_type": "code",
   "execution_count": 59,
   "metadata": {},
   "outputs": [],
   "source": [
    "Ulti = [lista2] + Ulti"
   ]
  },
  {
   "cell_type": "code",
   "execution_count": 63,
   "metadata": {},
   "outputs": [
    {
     "data": {
      "text/plain": [
       "[['Form1_H5',\n",
       "  'Form1_A5',\n",
       "  'Form1_Diff5',\n",
       "  'Form2_H5',\n",
       "  'Form2_A5',\n",
       "  'Form2_Diff5',\n",
       "  'Form3_H5',\n",
       "  'Form3_A5',\n",
       "  'Form3_Diff5'],\n",
       " ['Lucky_H5',\n",
       "  'Lucky_A5',\n",
       "  'Lucky_Diff5',\n",
       "  'Unlucky_H5',\n",
       "  'Unlucky_A5',\n",
       "  'Unlucky_Diff5'],\n",
       " ['HCCC_5',\n",
       "  'ACCC_5',\n",
       "  'CCC_Diff_5',\n",
       "  'CCCForm_H5',\n",
       "  'CCCForm_A5',\n",
       "  'CCCForm_Diff5']]"
      ]
     },
     "execution_count": 63,
     "metadata": {},
     "output_type": "execute_result"
    }
   ],
   "source": [
    "Ulti[1]"
   ]
  },
  {
   "cell_type": "code",
   "execution_count": 125,
   "metadata": {},
   "outputs": [],
   "source": [
    "UltiS=[]\n",
    "for i in range(len(Ulti_small)):    \n",
    "    UltiS+=[list(itertools.chain(*Ulti_small[i]))]"
   ]
  },
  {
   "cell_type": "code",
   "execution_count": 49,
   "metadata": {},
   "outputs": [],
   "source": [
    "Ulti2=[]\n",
    "for i in range(len(Ulti)):    \n",
    "    Ulti2+=[list(itertools.chain(*Ulti[i]))]"
   ]
  },
  {
   "cell_type": "code",
   "execution_count": 50,
   "metadata": {},
   "outputs": [
    {
     "name": "stdout",
     "output_type": "stream",
     "text": [
      "1331\n"
     ]
    }
   ],
   "source": [
    "print(len(Ulti2))\n",
    "#print(len(UltiS))"
   ]
  },
  {
   "cell_type": "code",
   "execution_count": 52,
   "metadata": {},
   "outputs": [
    {
     "data": {
      "text/plain": [
       "['PassForm_H5',\n",
       " 'PassForm_A5',\n",
       " 'PassForm_Diff5',\n",
       " 'STForm_H5',\n",
       " 'STForm_A5',\n",
       " 'STForm_Diff5',\n",
       " 'CCCForm_H5',\n",
       " 'CCCForm_A5',\n",
       " 'CCCForm_Diff5',\n",
       " 'DEEPForm_H5',\n",
       " 'DEEPForm_A5',\n",
       " 'DEEPForm_Diff5',\n",
       " 'PPDAForm_H5',\n",
       " 'PPDAForm_A5',\n",
       " 'PPDAForm_Diff5',\n",
       " 'SQuality_H5',\n",
       " 'SQuality_A5',\n",
       " 'SQuality_Diff5',\n",
       " 'WinCounterTotal_H',\n",
       " 'WinCounterTotal_A',\n",
       " 'WinCounterH_H',\n",
       " 'WinCounterA_A',\n",
       " 'ScrdCounterTotal_H',\n",
       " 'ScrdCounterTotal_A',\n",
       " 'ScrdCounterH_H',\n",
       " 'ScrdCounterTotalA_A',\n",
       " 'ConcdCounterTotal_H',\n",
       " 'ConcdCounterTotal_A',\n",
       " 'ConcdCounterH_H',\n",
       " 'ConcdCounterA_A',\n",
       " 'ConcdPercTotal_H',\n",
       " 'ConcdPercTotal_A',\n",
       " 'ConcdPercH_H',\n",
       " 'ConcdPercA_A',\n",
       " 'ScrdPercTotal_H',\n",
       " 'ScrdPercTotal_A',\n",
       " 'ScrdPercH_H',\n",
       " 'ScrdPercTotalA_A',\n",
       " 'WinPercTotal_H',\n",
       " 'WinPercTotal_A',\n",
       " 'WinPercH_H',\n",
       " 'WinPercA_A',\n",
       " 'SQuality_H5',\n",
       " 'SQuality_A5',\n",
       " 'SQuality_Diff5',\n",
       " 'H_xPts_Total',\n",
       " 'H_xPts_H',\n",
       " 'A_xPts_Total',\n",
       " 'A_xPts_A',\n",
       " 'H_xPts_Total5',\n",
       " 'H_xPts_H5',\n",
       " 'A_xPts_Total5',\n",
       " 'A_xPts_A5',\n",
       " 'xPoints_Diff_Total',\n",
       " 'xPoints_Diff_H-A',\n",
       " 'xPts_Diff_Total5',\n",
       " 'xPts_Diff_H-A5',\n",
       " 'Last_HxPTS',\n",
       " 'Last_AxPTS',\n",
       " 'xPTS_Diff_5',\n",
       " 'HxG_5',\n",
       " 'Last_HxG',\n",
       " 'AxG_5',\n",
       " 'Last_AxG',\n",
       " 'xG_Diff_5',\n",
       " 'Lucky_H5',\n",
       " 'Lucky_A5',\n",
       " 'Lucky_Diff5',\n",
       " 'Unlucky_H5',\n",
       " 'Unlucky_A5',\n",
       " 'Unlucky_Diff5',\n",
       " 'HT_HPoints_5',\n",
       " 'AT_APoints_5',\n",
       " 'HA_HAPointsDiff',\n",
       " 'HT_TotalPoints_5',\n",
       " 'AT_TotalPoints_5',\n",
       " 'HA_TotalPointsDiff',\n",
       " 'DeForm_H5',\n",
       " 'DeForm_A5',\n",
       " 'DeForm_Diff5',\n",
       " 'AtkForm_H5',\n",
       " 'AtkForm_A5',\n",
       " 'AtkForm_Diff5',\n",
       " 'HxConcd_5',\n",
       " 'Last_HxConcd',\n",
       " 'AxConcd_5',\n",
       " 'Last_AxConcd',\n",
       " 'xConcd_Diff_5',\n",
       " 'NewForm_H5',\n",
       " 'NewForm_A5',\n",
       " 'NewForm_Diff5']"
      ]
     },
     "execution_count": 52,
     "metadata": {},
     "output_type": "execute_result"
    }
   ],
   "source": [
    "Ulti2[0]"
   ]
  },
  {
   "cell_type": "code",
   "execution_count": 65,
   "metadata": {},
   "outputs": [
    {
     "ename": "NameError",
     "evalue": "name 'Ulti_Big2' is not defined",
     "output_type": "error",
     "traceback": [
      "\u001b[1;31m---------------------------------------------------------------------------\u001b[0m",
      "\u001b[1;31mNameError\u001b[0m                                 Traceback (most recent call last)",
      "\u001b[1;32m<ipython-input-65-5b4820e2bfbc>\u001b[0m in \u001b[0;36m<module>\u001b[1;34m\u001b[0m\n\u001b[1;32m----> 1\u001b[1;33m \u001b[0mUlti_Big2\u001b[0m \u001b[1;33m=\u001b[0m \u001b[1;33m[\u001b[0m\u001b[0mlista2\u001b[0m\u001b[1;33m]\u001b[0m \u001b[1;33m+\u001b[0m \u001b[0mUlti_Big2\u001b[0m\u001b[1;33m\u001b[0m\u001b[1;33m\u001b[0m\u001b[0m\n\u001b[0m",
      "\u001b[1;31mNameError\u001b[0m: name 'Ulti_Big2' is not defined"
     ]
    }
   ],
   "source": [
    "Ulti_Big2 = [lista2] + Ulti_Big2"
   ]
  },
  {
   "cell_type": "code",
   "execution_count": 81,
   "metadata": {},
   "outputs": [],
   "source": [
    "del Ulti_Big2[1]"
   ]
  },
  {
   "cell_type": "code",
   "execution_count": 82,
   "metadata": {},
   "outputs": [
    {
     "data": {
      "text/plain": [
       "2501"
      ]
     },
     "execution_count": 82,
     "metadata": {},
     "output_type": "execute_result"
    }
   ],
   "source": [
    "len(Ulti_Big2)"
   ]
  },
  {
   "cell_type": "code",
   "execution_count": 53,
   "metadata": {},
   "outputs": [],
   "source": [
    "rd0=open('Husky6_DeForestQ1_V1.pickle','wb')\n",
    "pickle.dump(Ulti2,rd0)\n",
    "rd0.close()"
   ]
  },
  {
   "cell_type": "code",
   "execution_count": 166,
   "metadata": {},
   "outputs": [],
   "source": [
    "rd1=open('Ultimate_List_DeForestQ1.pickle','rb')\n",
    "aaa = pickle.load(rd1)\n",
    "rd1.close()"
   ]
  },
  {
   "cell_type": "code",
   "execution_count": 176,
   "metadata": {},
   "outputs": [
    {
     "data": {
      "text/plain": [
       "['HScrd_5',\n",
       " 'Last_H_Scrd',\n",
       " 'AScrd_5',\n",
       " 'Last_A_Scrd',\n",
       " 'Scrd_Diff_H-A_5',\n",
       " 'ScrdCounter_H',\n",
       " 'ScrdCounter_A',\n",
       " 'WinCounter_H',\n",
       " 'WinCounter_A',\n",
       " 'Form1_H5',\n",
       " 'Form1_A5',\n",
       " 'Form1_Diff5',\n",
       " 'Form2_H5',\n",
       " 'Form2_A5',\n",
       " 'Form2_Diff5',\n",
       " 'Form3_H5',\n",
       " 'Form3_A5',\n",
       " 'Form3_Diff5',\n",
       " 'NewForm_H5',\n",
       " 'NewForm_A5',\n",
       " 'NewForm_Diff5',\n",
       " 'WinCounterTotal_H',\n",
       " 'WinCounterTotal_A',\n",
       " 'ScrdCounterTotal_H',\n",
       " 'ScrdCounterTotal_A']"
      ]
     },
     "execution_count": 176,
     "metadata": {},
     "output_type": "execute_result"
    }
   ],
   "source": [
    "aaa[3]"
   ]
  },
  {
   "cell_type": "code",
   "execution_count": 52,
   "metadata": {},
   "outputs": [
    {
     "data": {
      "text/plain": [
       "['HConcd_5',\n",
       " 'Last_H_Concd',\n",
       " 'AConcd_5',\n",
       " 'Last_A_Concd',\n",
       " 'Concd_Diff_H-A_5',\n",
       " 'ConcdCounterTotal_H',\n",
       " 'ConcdCounterTotal_A',\n",
       " 'ConcdCounter_H',\n",
       " 'ConcdCounter_A',\n",
       " 'Max_ConcdCounterTotal_H',\n",
       " 'Max_ConcdCounterTotal_A',\n",
       " 'Max_ConcdCounter_H',\n",
       " 'Max_ConcdCounter_A',\n",
       " 'Min_ConcdCounterTotal_H',\n",
       " 'Min_ConcdCounterTotal_A',\n",
       " 'Min_ConcdCounter_H',\n",
       " 'Min_ConcdCounter_A',\n",
       " 'HT_HPoints_5',\n",
       " 'AT_APoints_5',\n",
       " 'HA_PointsDiff',\n",
       " 'HCCC_5',\n",
       " 'Last_HCCC',\n",
       " 'ACCC_5',\n",
       " 'Last_ACCC',\n",
       " 'CCC_Diff_5',\n",
       " 'CCCForm_H5',\n",
       " 'CCCForm_A5',\n",
       " 'CCCForm_Diff5']"
      ]
     },
     "execution_count": 52,
     "metadata": {},
     "output_type": "execute_result"
    }
   ],
   "source": [
    "Ulti2[10]"
   ]
  },
  {
   "cell_type": "code",
   "execution_count": 178,
   "metadata": {},
   "outputs": [
    {
     "data": {
      "text/plain": [
       "[['WinCounterTotal_H', 'WinCounterTotal_A'], ['WinCounter_H', 'WinCounter_A']]"
      ]
     },
     "execution_count": 178,
     "metadata": {},
     "output_type": "execute_result"
    }
   ],
   "source": [
    "lista3[0]"
   ]
  },
  {
   "cell_type": "code",
   "execution_count": null,
   "metadata": {},
   "outputs": [],
   "source": []
  }
 ],
 "metadata": {
  "kernelspec": {
   "display_name": "Python 3",
   "language": "python",
   "name": "python3"
  },
  "language_info": {
   "codemirror_mode": {
    "name": "ipython",
    "version": 3
   },
   "file_extension": ".py",
   "mimetype": "text/x-python",
   "name": "python",
   "nbconvert_exporter": "python",
   "pygments_lexer": "ipython3",
   "version": "3.7.3"
  }
 },
 "nbformat": 4,
 "nbformat_minor": 4
}
