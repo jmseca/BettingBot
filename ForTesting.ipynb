{
 "cells": [
  {
   "cell_type": "code",
   "execution_count": 5,
   "metadata": {},
   "outputs": [],
   "source": [
    "import pandas as pd\n",
    "import random"
   ]
  },
  {
   "cell_type": "code",
   "execution_count": 28,
   "metadata": {},
   "outputs": [],
   "source": [
    "def method2(df):\n",
    "...     money = 100\n",
    "...     lgames = 0\n",
    "...     for i in range(len(df)):\n",
    "...             bet_money = round(money*(0.1+(0.02*lgames)),2)*(1/(df.iloc[i]['ODD']))\n",
    "...             #print(bet_money)\n",
    "...             money = money - bet_money\n",
    "...             if df.iloc[i]['WNW']==1:\n",
    "...                     money = money + (bet_money*(df.iloc[i]['ODD']))\n",
    "...                     lgames = 0\n",
    "...             else:\n",
    "...                     lgames+=1\n",
    "...             #print(money)\n",
    "...     return money"
   ]
  },
  {
   "cell_type": "code",
   "execution_count": 32,
   "metadata": {},
   "outputs": [],
   "source": [
    "def method1(df):\n",
    "...     money = 100\n",
    "...     for i in range(len(df)):\n",
    "...             bet_money = round(money*0.1,2)*(1/(df.iloc[i]['ODD']))\n",
    "...             money = money - bet_money\n",
    "...             if df.iloc[i]['WNW']==1:\n",
    "...                     money = money + (bet_money * df.iloc[i]['ODD'])\n",
    "...     return money"
   ]
  },
  {
   "cell_type": "code",
   "execution_count": 46,
   "metadata": {},
   "outputs": [],
   "source": [
    "def dfdf(size,acc,odd1,odd2):\n",
    "...     wnw = []\n",
    "...     odd = []\n",
    "...     for i in range(size):\n",
    "...             if round((100*random.random()),2)<=acc:\n",
    "...                     wnw += [1]\n",
    "...             else:\n",
    "...                     wnw += [0]\n",
    "...             odd += [round(random.uniform(odd1,odd2),2)]\n",
    "...     return pd.DataFrame({'ODD':odd,'WNW':wnw})"
   ]
  },
  {
   "cell_type": "code",
   "execution_count": 50,
   "metadata": {},
   "outputs": [],
   "source": [
    "df = dfdf(60,50,1.9,2.1)"
   ]
  },
  {
   "cell_type": "code",
   "execution_count": 53,
   "metadata": {},
   "outputs": [
    {
     "data": {
      "text/plain": [
       "59.2848832619184"
      ]
     },
     "execution_count": 53,
     "metadata": {},
     "output_type": "execute_result"
    }
   ],
   "source": [
    "method2(df)"
   ]
  },
  {
   "cell_type": "code",
   "execution_count": 54,
   "metadata": {},
   "outputs": [
    {
     "data": {
      "text/plain": [
       "62.49025187605432"
      ]
     },
     "execution_count": 54,
     "metadata": {},
     "output_type": "execute_result"
    }
   ],
   "source": [
    "method1(df)"
   ]
  },
  {
   "cell_type": "code",
   "execution_count": null,
   "metadata": {},
   "outputs": [],
   "source": []
  }
 ],
 "metadata": {
  "kernelspec": {
   "display_name": "Python 3",
   "language": "python",
   "name": "python3"
  },
  "language_info": {
   "codemirror_mode": {
    "name": "ipython",
    "version": 3
   },
   "file_extension": ".py",
   "mimetype": "text/x-python",
   "name": "python",
   "nbconvert_exporter": "python",
   "pygments_lexer": "ipython3",
   "version": "3.7.3"
  }
 },
 "nbformat": 4,
 "nbformat_minor": 4
}
