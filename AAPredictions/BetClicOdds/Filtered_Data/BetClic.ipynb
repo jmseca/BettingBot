{
 "cells": [
  {
   "cell_type": "code",
   "execution_count": 1,
   "metadata": {},
   "outputs": [],
   "source": [
    "import pandas as pd\n",
    "import datetime as dt \n",
    "import numpy as np\n",
    "import os"
   ]
  },
  {
   "cell_type": "code",
   "execution_count": 2,
   "metadata": {},
   "outputs": [
    {
     "data": {
      "text/plain": [
       "['.ipynb_checkpoints',\n",
       " 'All',\n",
       " 'Atenção.txt',\n",
       " 'BetClic.ipynb',\n",
       " 'Bundesliga___',\n",
       " 'La_Liga___',\n",
       " 'Ligue_1___',\n",
       " 'Premier_League___',\n",
       " 'Primeira_Liga___',\n",
       " 'Repos_BetClic0.xlsx',\n",
       " 'Repos_BetClic1.xlsx',\n",
       " 'Repos_BetClic2.xlsx',\n",
       " 'Repos_BetClic3.xlsx',\n",
       " 'Repos_BetClic4.xlsx',\n",
       " 'Repos_BetClic5.xlsx',\n",
       " 'Serie_A___']"
      ]
     },
     "execution_count": 2,
     "metadata": {},
     "output_type": "execute_result"
    }
   ],
   "source": [
    "os.listdir()"
   ]
  },
  {
   "cell_type": "code",
   "execution_count": 3,
   "metadata": {},
   "outputs": [],
   "source": [
    "ao = os.listdir()"
   ]
  },
  {
   "cell_type": "code",
   "execution_count": 88,
   "metadata": {},
   "outputs": [],
   "source": [
    "df = pd.read_excel('Repos_BetClic3.xlsx')"
   ]
  },
  {
   "cell_type": "code",
   "execution_count": 105,
   "metadata": {},
   "outputs": [],
   "source": [
    "def get_remove(master,teams):\n",
    "    teams2,counts=np.unique(teams,return_counts=True)\n",
    "    index_plus=[]\n",
    "    for i in range(len(counts)):\n",
    "        #print(i,counts[i])\n",
    "        if counts[i]>1:\n",
    "            index_plus+=[i]\n",
    "    ind2=[]\n",
    "    for n in range(len(index_plus)):\n",
    "        #print(teams[index_plus[n]])\n",
    "        #print(np.where(teams==teams[index_plus[n]]))\n",
    "        ind2+=np.where(teams==teams2[index_plus[n]])\n",
    "    return ind2\n",
    "\n",
    "def league_split(master):\n",
    "    liges=np.unique(list(master.iloc[:]['League']))\n",
    "    out=[['All',master]]\n",
    "    master_copy=master.copy()\n",
    "    for l in liges:\n",
    "        lig = master.loc[master['League']==l]\n",
    "        out+=[[l,lig]]\n",
    "    return out\n",
    "\n",
    "def concat_master(begin=0):\n",
    "    ao = os.listdir()\n",
    "    ao2=[]\n",
    "    for i in ao:\n",
    "        if 'Repos' in i:\n",
    "            ao2+=[i]\n",
    "    to_concat=[]\n",
    "    for x in range(begin,len(ao2)):\n",
    "        to_concat+=[pd.read_excel(ao2[x])]\n",
    "    master = pd.concat(to_concat).reset_index(drop=True)\n",
    "    print(len(master))\n",
    "    ht = list(master.iloc[:]['HT'])\n",
    "    at = list(master.iloc[:]['AT'])\n",
    "    teams = np.array(list(map(lambda x,y:x+'_'+y,ht,at)))\n",
    "    remove = get_remove(master,teams)\n",
    "    to_del = []\n",
    "    for i in remove:\n",
    "        ii = list(i[1:])\n",
    "        to_del+=ii\n",
    "    master = master.drop(to_del,axis=0)\n",
    "    master = master.reset_index(drop=True)\n",
    "    \n",
    "    aaa = league_split(master)\n",
    "    \n",
    "    for a in range(len(aaa)):\n",
    "        aaa[a][1].to_excel('C://Users//joaom//Documents//Projetos//PYTHON//Apostas//AAPredictions//BetClicOdds//Filtered_Data//'+str(aaa[a][0])+'___//'+str(aaa[a][0])+'_Odds.xlsx',index=False)                    "
   ]
  }
 ],
 "metadata": {
  "kernelspec": {
   "display_name": "Python 3",
   "language": "python",
   "name": "python3"
  },
  "language_info": {
   "codemirror_mode": {
    "name": "ipython",
    "version": 3
   },
   "file_extension": ".py",
   "mimetype": "text/x-python",
   "name": "python",
   "nbconvert_exporter": "python",
   "pygments_lexer": "ipython3",
   "version": "3.7.3"
  }
 },
 "nbformat": 4,
 "nbformat_minor": 4
}
