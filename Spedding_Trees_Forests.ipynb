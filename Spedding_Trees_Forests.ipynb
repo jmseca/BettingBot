{
 "cells": [
  {
   "cell_type": "code",
   "execution_count": 19,
   "metadata": {},
   "outputs": [],
   "source": [
    "import random\n",
    "from Multi_Random_Forest1 import *\n",
    "import time\n",
    "from functools import reduce as reduce"
   ]
  },
  {
   "cell_type": "code",
   "execution_count": 9,
   "metadata": {},
   "outputs": [
    {
     "name": "stdout",
     "output_type": "stream",
     "text": [
      "AHAHAH more than 100x faster\n"
     ]
    }
   ],
   "source": [
    "def new_partition(df,Q):\n",
    "    true=df.loc[(df[df.columns[Q.column]]>=Q.value1)]\n",
    "    false=df.loc[(df[df.columns[Q.column]]<Q.value1)]\n",
    "    return true,false\n",
    "\n",
    "print('AHAHAH more than 100x faster')"
   ]
  },
  {
   "cell_type": "code",
   "execution_count": 3,
   "metadata": {},
   "outputs": [
    {
     "name": "stdout",
     "output_type": "stream",
     "text": [
      "AHAHAHA 2x faster\n"
     ]
    }
   ],
   "source": [
    "def new_var_values(df,column):\n",
    "    return list(df[df.columns[column]].unique())\n",
    "\n",
    "print('AHAHAHA 2x faster')"
   ]
  },
  {
   "cell_type": "code",
   "execution_count": 6,
   "metadata": {},
   "outputs": [],
   "source": [
    "df=pd.read_excel('HuskyPL2_Train.xlsx')\n",
    "Q=Question(1,0.95)"
   ]
  },
  {
   "cell_type": "code",
   "execution_count": 7,
   "metadata": {},
   "outputs": [],
   "source": [
    "def info_gain(true,false,current_impurity):\n",
    "    #true/false são as df q resultam de fazer uma pergunta (definida previamente)\n",
    "    #current_impurity é o gini da df sem ser dividida por uma pergunta\n",
    "    p=(len(true)/(len(true)+len(false)))\n",
    "    info_gain=current_impurity - ((p*gini(true))+((1-p)*gini(false)))\n",
    "    #print('GAIN',info_gain,'len(true)',len(true),'len(false)',len(false))\n",
    "    return info_gain\n"
   ]
  },
  {
   "cell_type": "code",
   "execution_count": 10,
   "metadata": {},
   "outputs": [],
   "source": [
    "t,f=new_partition(df,Q)"
   ]
  },
  {
   "cell_type": "code",
   "execution_count": 53,
   "metadata": {},
   "outputs": [
    {
     "name": "stdout",
     "output_type": "stream",
     "text": [
      "Já é o + fast\n"
     ]
    }
   ],
   "source": [
    "def depend_counts(df):\n",
    "    #devolve um dicionário com os valores da variável dependente e as vezes q aparecem\n",
    "    #NOTA, esta função assume q a variável depend está na última coluna da df\n",
    "    counts={}\n",
    "    coluna=list(df.iloc[:,-1])\n",
    "    for val in coluna:\n",
    "        if val not in counts:\n",
    "            counts[val]=0\n",
    "        counts[val]+=1\n",
    "    return counts\n",
    "\n",
    "print('Já é o + fast')"
   ]
  },
  {
   "cell_type": "code",
   "execution_count": null,
   "metadata": {},
   "outputs": [],
   "source": []
  }
 ],
 "metadata": {
  "kernelspec": {
   "display_name": "Python 3",
   "language": "python",
   "name": "python3"
  },
  "language_info": {
   "codemirror_mode": {
    "name": "ipython",
    "version": 3
   },
   "file_extension": ".py",
   "mimetype": "text/x-python",
   "name": "python",
   "nbconvert_exporter": "python",
   "pygments_lexer": "ipython3",
   "version": "3.7.3"
  }
 },
 "nbformat": 4,
 "nbformat_minor": 2
}
